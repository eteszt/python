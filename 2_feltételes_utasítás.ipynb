{
  "nbformat": 4,
  "nbformat_minor": 0,
  "metadata": {
    "colab": {
      "name": "2. feltételes utasítás.ipynb",
      "provenance": [],
      "collapsed_sections": [],
      "authorship_tag": "ABX9TyM6d2fOtHpTjxGM33nT3nU7",
      "include_colab_link": true
    },
    "kernelspec": {
      "name": "python3",
      "display_name": "Python 3"
    }
  },
  "cells": [
    {
      "cell_type": "markdown",
      "metadata": {
        "id": "view-in-github",
        "colab_type": "text"
      },
      "source": [
        "<a href=\"https://colab.research.google.com/github/eteszt/python/blob/master/2_felt%C3%A9teles_utas%C3%ADt%C3%A1s.ipynb\" target=\"_parent\"><img src=\"https://colab.research.google.com/assets/colab-badge.svg\" alt=\"Open In Colab\"/></a>"
      ]
    },
    {
      "cell_type": "markdown",
      "metadata": {
        "id": "vG5dKqAvveKb",
        "colab_type": "text"
      },
      "source": [
        "<a href=\"https://ibb.co/fYXPt03\"><img src=\"https://i.ibb.co/HDKkYgc/K-perny-fot-2020-05-10-19-57-34.jpg\" width=\"500\" height=\"300\" alt=\"K-perny-fot-2020-05-10-19-57-34\" border=\"0\"></a>\n",
        "\n",
        "<a href=\"https://ibb.co/JzWRfD4\"><img src=\"https://i.ibb.co/cNKcG4H/K-perny-fot-2020-05-10-19-57-48.jpg\" width=\"500\" height=\"300\" alt=\"K-perny-fot-2020-05-10-19-57-48\" border=\"0\"></a>\n",
        "\n",
        "<a href=\"https://ibb.co/JRp79yZ\"><img src=\"https://i.ibb.co/6RtPk1Q/K-perny-fot-2020-05-10-19-58-14.jpg\" width=\"500\" height=\"300\" alt=\"K-perny-fot-2020-05-10-19-58-14\" border=\"0\"></a>"
      ]
    },
    {
      "cell_type": "markdown",
      "metadata": {
        "id": "EIeQA4vyYzKM",
        "colab_type": "text"
      },
      "source": [
        "# Összehasonlítás: \n",
        "# <, <=, ==, !=, >, >=\n"
      ]
    },
    {
      "cell_type": "code",
      "metadata": {
        "id": "HKiAjC3rXAcp",
        "colab_type": "code",
        "colab": {}
      },
      "source": [
        "if 5>7:\n",
        "  print(\"igaz a feltétel\")\n",
        "else:\n",
        "  print(\"hamis a feltétel\")"
      ],
      "execution_count": 0,
      "outputs": []
    },
    {
      "cell_type": "code",
      "metadata": {
        "id": "oIjiw8JBZXWR",
        "colab_type": "code",
        "colab": {}
      },
      "source": [
        "if 6==12/2:\n",
        "  print(\"igaz a feltétel\")\n",
        "else:\n",
        "  print(\"hamis a feltétel\")"
      ],
      "execution_count": 0,
      "outputs": []
    },
    {
      "cell_type": "code",
      "metadata": {
        "id": "KHuJzGyAZc4I",
        "colab_type": "code",
        "colab": {}
      },
      "source": [
        "if \"alma\"==\"szilva\":\n",
        "  print(\"igaz a feltétel\")\n",
        "else:\n",
        "  print(\"hamis a feltétel\")"
      ],
      "execution_count": 0,
      "outputs": []
    },
    {
      "cell_type": "code",
      "metadata": {
        "id": "O_5tv8esZ1kW",
        "colab_type": "code",
        "colab": {}
      },
      "source": [
        "if not 5>6:\n",
        "  print(\"igaz a feltétel\")\n",
        "else:\n",
        "  print(\"hamis a feltétel\")"
      ],
      "execution_count": 0,
      "outputs": []
    },
    {
      "cell_type": "code",
      "metadata": {
        "id": "1ax9XxlgaBSp",
        "colab_type": "code",
        "colab": {}
      },
      "source": [
        "if 5>6:\n",
        "  print(\"igaz a feltétel\")\n",
        "  print(\"az igaz ágat hajtja végre a program\")\n",
        "else:\n",
        "  print(\"hamis a feltétel\")\n",
        "  print(\"a hamis ágat hajtja végre a program\")"
      ],
      "execution_count": 0,
      "outputs": []
    },
    {
      "cell_type": "code",
      "metadata": {
        "id": "sfxkAByFbHWQ",
        "colab_type": "code",
        "colab": {}
      },
      "source": [
        "#beolvasunk két számot és kiírjuk a nagyobbikat\n",
        "a=int(input(\"Az egyik szám: \"))\n",
        "b=int(input(\"A másik szám: \"))\n",
        "if a>b:\n",
        "  print(\"A nagyobbik szám: \"+str(a))\n",
        "else:\n",
        "  print(\"A nagyobbik szám: \"+str(b))"
      ],
      "execution_count": 0,
      "outputs": []
    },
    {
      "cell_type": "markdown",
      "metadata": {
        "id": "xivqNhZzcZxQ",
        "colab_type": "text"
      },
      "source": [
        "# Feladat\n",
        "olvass be három számot és írd ki a legkisebbet!"
      ]
    },
    {
      "cell_type": "code",
      "metadata": {
        "id": "wjg0ULipdFg3",
        "colab_type": "code",
        "colab": {}
      },
      "source": [
        "#ide írhatod a programodat"
      ],
      "execution_count": 0,
      "outputs": []
    },
    {
      "cell_type": "markdown",
      "metadata": {
        "colab_type": "text",
        "id": "4jingI9odWko"
      },
      "source": [
        "# Többszörös elágazás\n",
        "# **if** *feltétel1*:\n",
        "  *utasítások ha teljesül a feltétel1*\n",
        "# **elif** *feltétel2*:\n",
        "  *utasítások, ha teljesül a feltétel2*\n",
        "# **elif** *feltétel3*:\n",
        "  *utasítások, ha teljesül a feltétel3*\n",
        "# **elif** *feltétel4*:\n",
        "  *utasítások, ha teljesül a feltétel4*\n",
        "# **else:**\n",
        "  *utasítások, egyébként*\n"
      ]
    },
    {
      "cell_type": "code",
      "metadata": {
        "colab_type": "code",
        "id": "8bVR06LBdWkq",
        "colab": {}
      },
      "source": [
        "a=int(input(\"Írj be egy számot: \"))\n",
        "if a<0:\n",
        "  print(\"ez egy negatív szám\")\n",
        "elif a>0:\n",
        "  print(\"ez egy pozitív szám\")\n",
        "else:\n",
        "  print(\"ez nulla\")"
      ],
      "execution_count": 0,
      "outputs": []
    },
    {
      "cell_type": "code",
      "metadata": {
        "id": "bmsQWPVFZtQJ",
        "colab_type": "code",
        "colab": {}
      },
      "source": [
        "temp=float(input('Hány Celsius fok van kinn? '))\n",
        "if temp<=5:\n",
        "  print('Nagyon hideg van')\n",
        "elif temp<=15:\n",
        "  print('Hideg van')\n",
        "elif temp<=25:\n",
        "  print('Meleg van')\n",
        "else:\n",
        "  print('Nagyon meleg van')"
      ],
      "execution_count": 0,
      "outputs": []
    },
    {
      "cell_type": "markdown",
      "metadata": {
        "id": "AWti0j8ElD17",
        "colab_type": "text"
      },
      "source": [
        "# Feladat\n",
        "olvass be három egész számot és írd ki nagyság szerint növekvő sorrendben"
      ]
    },
    {
      "cell_type": "code",
      "metadata": {
        "id": "qhCToQ_DlQrG",
        "colab_type": "code",
        "colab": {}
      },
      "source": [
        "#ide írhatod a programodat"
      ],
      "execution_count": 0,
      "outputs": []
    },
    {
      "cell_type": "markdown",
      "metadata": {
        "id": "yImtbzvqlc03",
        "colab_type": "text"
      },
      "source": [
        "# Feladat\n",
        "olvass be három egész számot és írd ki, hogy ezek lehetnek-e egy háromszög oldalai"
      ]
    },
    {
      "cell_type": "code",
      "metadata": {
        "id": "c1ehz9yFlu2i",
        "colab_type": "code",
        "colab": {}
      },
      "source": [
        "#ide írhatod a programodat"
      ],
      "execution_count": 0,
      "outputs": []
    },
    {
      "cell_type": "markdown",
      "metadata": {
        "id": "ZQEAtPtAZPK5",
        "colab_type": "text"
      },
      "source": [
        "# Feladat\n",
        "Egy iskolai dolgozat minősítése a szerzett pontok alapján a következő lehet (max 60):\n",
        "\n",
        "30 pont alatt: nem felelet meg\n",
        "\n",
        "50 pontig: megfelelet\n",
        "\n",
        "50 pont felett: kiválóan megfelelt.\n",
        "\n",
        "Kérjük be a pontszámot és írassuk ki a minősítést!"
      ]
    },
    {
      "cell_type": "code",
      "metadata": {
        "id": "uu-V9K5jaATP",
        "colab_type": "code",
        "colab": {}
      },
      "source": [
        "#ide írhatod a programodat"
      ],
      "execution_count": 0,
      "outputs": []
    },
    {
      "cell_type": "markdown",
      "metadata": {
        "id": "q39EH-n6ZhTL",
        "colab_type": "text"
      },
      "source": [
        "# Feladat\n",
        "Szaloncukrot vásárolunk, egy csomag ára 2500 Ft. Tíz csomag felett 10% kedvezményt kapunk. Kérjük be a csomagok számát, majd írjuk, ki mennyit fizetünk!"
      ]
    },
    {
      "cell_type": "code",
      "metadata": {
        "id": "TLlyd9giaBkH",
        "colab_type": "code",
        "colab": {}
      },
      "source": [
        "#ide írhatod a programodat"
      ],
      "execution_count": 0,
      "outputs": []
    }
  ]
}