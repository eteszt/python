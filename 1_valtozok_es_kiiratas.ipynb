{
  "nbformat": 4,
  "nbformat_minor": 0,
  "metadata": {
    "colab": {
      "name": "1. valtozok es kiiratas.ipynb",
      "provenance": [],
      "collapsed_sections": [],
      "authorship_tag": "ABX9TyOzziHYqU4WMDrEONxAQ0nD",
      "include_colab_link": true
    },
    "kernelspec": {
      "name": "python3",
      "display_name": "Python 3"
    }
  },
  "cells": [
    {
      "cell_type": "markdown",
      "metadata": {
        "id": "view-in-github",
        "colab_type": "text"
      },
      "source": [
        "<a href=\"https://colab.research.google.com/github/eteszt/python/blob/master/1_valtozok_es_kiiratas.ipynb\" target=\"_parent\"><img src=\"https://colab.research.google.com/assets/colab-badge.svg\" alt=\"Open In Colab\"/></a>"
      ]
    },
    {
      "cell_type": "markdown",
      "metadata": {
        "id": "ghI7zGxR1ZK9",
        "colab_type": "text"
      },
      "source": [
        "# Műveleti jelek\n",
        "Aritmetikai műveletek: +, -, , /, *\n",
        "\n",
        "maradék  %\n",
        "\n",
        "egészosztás //\n",
        "\n",
        "\n",
        "\n",
        "Összehasonlítás: <, <=, ==, !=, >, >=\n",
        "\n",
        "Logikai műveletek: and, or, not"
      ]
    },
    {
      "cell_type": "code",
      "metadata": {
        "id": "MYmbtI4lxEBV",
        "colab_type": "code",
        "colab": {}
      },
      "source": [
        "#  Szám tipusú változók\n",
        "i = 10      # egész szám (int) \n",
        "f = 3.14    # lebegőpontos szám (float) \n",
        "c = 2 - 5j  # komplex szám (complex) \n",
        "\n",
        "print(i)\n",
        "print(f)\n",
        "print(c)       \n",
        "\n",
        "#  Szöveges változók\n",
        "s1 = 'alma'              # a határoló jel lehet ' \n",
        "s2 = \"szilva\"            # ...és \" is \n",
        "s3 = '\"alma\" \"szilva\"'   \n",
        "\n",
        "print(s1)\n",
        "print(s2)\n",
        "print(s3)\n"
      ],
      "execution_count": 0,
      "outputs": []
    },
    {
      "cell_type": "markdown",
      "metadata": {
        "id": "YNHTzDe13E-7",
        "colab_type": "text"
      },
      "source": [
        "# Tipusok konvertálása\n",
        "int\n",
        "\n",
        "float\n",
        "\n",
        "str"
      ]
    },
    {
      "cell_type": "code",
      "metadata": {
        "id": "owlSkt1Y3O4j",
        "colab_type": "code",
        "cellView": "code",
        "colab": {}
      },
      "source": [
        "#két egész változót hozunk létre és összeadjuk őket\n",
        "a=5\n",
        "b=11\n",
        "c=a+b\n",
        "print(c)\n",
        "\n"
      ],
      "execution_count": 0,
      "outputs": []
    },
    {
      "cell_type": "code",
      "metadata": {
        "id": "_iyw4je83W9L",
        "colab_type": "code",
        "colab": {}
      },
      "source": [
        "#egy egész és egy szöveges változót hozunk létre és összeadjuk őket\n",
        "#ez így hibás lesz\n",
        "a=5\n",
        "b=\"11\"\n",
        "c=a+b\n",
        "print(c)\n"
      ],
      "execution_count": 0,
      "outputs": []
    },
    {
      "cell_type": "code",
      "metadata": {
        "id": "UY3ysFim3h5Y",
        "colab_type": "code",
        "colab": {}
      },
      "source": [
        "#egy egész és egy szöveges változót hozunk létre és összeadjuk őket\n",
        "#de előtte a szöveges változót számmá alakítjuk\n",
        "\n",
        "a=5\n",
        "b=\"11\"\n",
        "d=int(b)\n",
        "c=a+d\n",
        "print(c)\n"
      ],
      "execution_count": 0,
      "outputs": []
    },
    {
      "cell_type": "code",
      "metadata": {
        "id": "zT0bHiIi3zkG",
        "colab_type": "code",
        "colab": {}
      },
      "source": [
        "#nem kell külön változót használni, az előbbi program így is működik\n",
        "\n",
        "a=5\n",
        "b=\"11\"\n",
        "c=a+int(b)\n",
        "print(c)"
      ],
      "execution_count": 0,
      "outputs": []
    },
    {
      "cell_type": "markdown",
      "metadata": {
        "id": "ADwhFUQZ4Srw",
        "colab_type": "text"
      },
      "source": [
        "# Adatok beolvasása\n",
        "az **input** utasítás az egyenlőségjel bal odalán levő változóba teszi a beolvasott értéket"
      ]
    },
    {
      "cell_type": "code",
      "metadata": {
        "id": "qZj64pHv4YtA",
        "colab_type": "code",
        "colab": {}
      },
      "source": [
        "A=input(\"Mi legyen az A változó értéke? \")\n",
        "print(A)"
      ],
      "execution_count": 0,
      "outputs": []
    },
    {
      "cell_type": "code",
      "metadata": {
        "id": "UXVegkMG4z4R",
        "colab_type": "code",
        "colab": {}
      },
      "source": [
        "A=input(\"Mi legyen az A változó értéke? \")\n",
        "print(\"Az A változó értéke: \")\n",
        "print(A)"
      ],
      "execution_count": 0,
      "outputs": []
    },
    {
      "cell_type": "code",
      "metadata": {
        "id": "EGZH0A6e5AeO",
        "colab_type": "code",
        "colab": {}
      },
      "source": [
        "A=input(\"Mi legyen az A változó értéke? \")\n",
        "#ha nem külön sorokba akarunk írni\n",
        "print(\"Az A változó értéke: \",end=\"\")\n",
        "print(A)"
      ],
      "execution_count": 0,
      "outputs": []
    },
    {
      "cell_type": "code",
      "metadata": {
        "id": "xudKbUuQ5lBq",
        "colab_type": "code",
        "colab": {}
      },
      "source": [
        "#a kerület és terület számító feladatok változókkal\n",
        "#fontos, hogy a beolvasás eredménye mindig szöveg, ezért át kell alakítani \n",
        "#vagy egészet vagy törtet kell csinálni belőle mielőtt számolunk vele\n",
        "a=input(\"Mekkora a négyzet oldala? \")\n",
        "a=int(a)\n",
        "kerület=4*a\n",
        "terület=a*a\n",
        "print(\"A négyzet kerülete=\",end=\"\")\n",
        "print(kerület)\n",
        "print(\"A négyzet területe=\",end=\"\")\n",
        "print(terület)"
      ],
      "execution_count": 0,
      "outputs": []
    },
    {
      "cell_type": "code",
      "metadata": {
        "id": "YG0D1ssv7LKE",
        "colab_type": "code",
        "colab": {}
      },
      "source": [
        "#ugyanezt lehet rövidebben is\n",
        "a=int(input(\"Mekkora a négyzet oldala? \"))\n",
        "print(\"A négyzet kerülete=\",end=\"\")\n",
        "print(kerület)\n",
        "print(\"A négyzet területe=\",end=\"\")\n",
        "print(terület)"
      ],
      "execution_count": 0,
      "outputs": []
    },
    {
      "cell_type": "code",
      "metadata": {
        "id": "otLvPQts7e_A",
        "colab_type": "code",
        "colab": {}
      },
      "source": [
        "#és még rövidebben, ha a számítást közvetlenül a print utasításban végezzük el\n",
        "#ilyenkor arra kell figyelni, hogy a print csak szöveges változókat tud kiírni, ezért a \n",
        "#számítás eredményét szöveggé kell alakítani\n",
        "a=int(input(\"Mekkora a négyzet oldala? \"))\n",
        "print(\"A négyzet kerülete= \"+str(4*a))\n",
        "print(\"A négyzet területe=\"+str(a*a))\n"
      ],
      "execution_count": 0,
      "outputs": []
    },
    {
      "cell_type": "markdown",
      "metadata": {
        "id": "HI1eCZho8eZy",
        "colab_type": "text"
      },
      "source": [
        "# Próbáljátok meg egy téglalap két oldalának adatát bekérni és kiiratni a kerülelét és területét!"
      ]
    },
    {
      "cell_type": "code",
      "metadata": {
        "id": "Y-O5vrWtAP-7",
        "colab_type": "code",
        "colab": {}
      },
      "source": [
        "#ide írhatod a programodat\n",
        "a=int(input(\"Mekkora a téglalap A oldala? \"))\n",
        "b=int(input(\"Mekkora a téglalap B oldala? \"))\n",
        "print(\"A téglalap kerülete=\"+str(2*(a+b)))\n",
        "print(\"A téglalap területe= \"+str(a*b))"
      ],
      "execution_count": 0,
      "outputs": []
    },
    {
      "cell_type": "markdown",
      "metadata": {
        "id": "nRYuCArk8y6b",
        "colab_type": "text"
      },
      "source": [
        "# Próbáljátok meg egy kör átmérőjét bekérni és kiiratni a kerületét és területét!"
      ]
    },
    {
      "cell_type": "code",
      "metadata": {
        "id": "U2dZmsGZAXL5",
        "colab_type": "code",
        "colab": {}
      },
      "source": [
        "#ide írhatod a programodat\n",
        "r=int(input(\"Mekkora a kör sugara? \"))\n",
        "print(\"A kör kerülete= \"+str(2*r*3.14))\n",
        "print(\"A kör területe= \"+str(r*r*3.14))"
      ],
      "execution_count": 0,
      "outputs": []
    },
    {
      "cell_type": "markdown",
      "metadata": {
        "id": "466F4pcE9k6t",
        "colab_type": "text"
      },
      "source": [
        "# És akkor jöhet a beszélgetés a számítógéppel!"
      ]
    },
    {
      "cell_type": "code",
      "metadata": {
        "id": "6_p9lDkr9rVH",
        "colab_type": "code",
        "colab": {}
      },
      "source": [
        "név=input(\"Hogy hívnak? \")\n",
        "print(\"Szervusz \"+név+\"!\")\n",
        "születés=input(\"Melyik évben születtél? \")\n",
        "print(\"Te \"+születés+\"-ban/ben születtél.\")"
      ],
      "execution_count": 0,
      "outputs": []
    },
    {
      "cell_type": "markdown",
      "metadata": {
        "id": "JlYuQMGq_Ytj",
        "colab_type": "text"
      },
      "source": [
        "# A fentiek alapján írj egy olyan programot, ami megkérdezi a nevet és a születési évet, és kiírja, hogy az illető hány éves idén!"
      ]
    },
    {
      "cell_type": "code",
      "metadata": {
        "id": "dioxoYou_2xi",
        "colab_type": "code",
        "colab": {}
      },
      "source": [
        "#ide jöhet a Te programod\n",
        "név=input(\"Hogy hívnak? \")\n",
        "születés=input(\"Mikor születtél? \")\n",
        "print(\"Te \"+str(2020-int(születés))+\" éves vagy \")"
      ],
      "execution_count": 0,
      "outputs": []
    }
  ]
}