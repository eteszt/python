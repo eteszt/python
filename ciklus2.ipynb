{
  "nbformat": 4,
  "nbformat_minor": 0,
  "metadata": {
    "colab": {
      "name": "ciklus2.ipynb",
      "provenance": [],
      "authorship_tag": "ABX9TyPAyVOzBnLyEU5HWDTZgba0",
      "include_colab_link": true
    },
    "kernelspec": {
      "name": "python3",
      "display_name": "Python 3"
    }
  },
  "cells": [
    {
      "cell_type": "markdown",
      "metadata": {
        "id": "view-in-github",
        "colab_type": "text"
      },
      "source": [
        "<a href=\"https://colab.research.google.com/github/eteszt/python/blob/master/ciklus2.ipynb\" target=\"_parent\"><img src=\"https://colab.research.google.com/assets/colab-badge.svg\" alt=\"Open In Colab\"/></a>"
      ]
    },
    {
      "cell_type": "markdown",
      "metadata": {
        "id": "LjuJV9A5FD-i",
        "colab_type": "text"
      },
      "source": [
        "# **while** *feltétel*:\n",
        "> utasítások\n",
        "\n"
      ]
    },
    {
      "cell_type": "code",
      "metadata": {
        "id": "xoyA8SfwJ3EF",
        "colab_type": "code",
        "colab": {}
      },
      "source": [
        "n = 5\n",
        "while n > 0:\n",
        "    n -= 1\n",
        "    print (n)"
      ],
      "execution_count": 0,
      "outputs": []
    },
    {
      "cell_type": "markdown",
      "metadata": {
        "id": "0US6d__XJx2m",
        "colab_type": "text"
      },
      "source": [
        "Mi történik ebben a példában:\n",
        "\n",
        "Az n értéke kezdetben 5. A 2. sorban a while állítás vizsgálatának eredménye (n>0) igaz, tehát a ciklusmag lefut. A 3. sorban a ciklusmagban n-t 1-el csökkentjük, majd az eredményt kinyomtatjuk.\n",
        "\n",
        "Amikor a ciklusmag lefutott, a program végrehajtása visszatér a hurok tetejére a 2. sorba, és a kifejezést újra kiértékeljük. Még mindig igaz, tehát a ciklusmag újra végrehajtja a feladatot, és az eredmény nyomtatásra kerül.\n",
        "\n",
        "Ez addig folytatódik, amíg n nullává nem válik. Ezen a ponton, amikor a kifejezést teszteljük, az eredmény hamis, így a hurok véget ér.\n",
        "\n",
        "Fontos, hogy a while a feltételt előbb teszteli, mielőtt bármi más megtörténik. Ha hamis a kiértékelés eredménye, akkor a ciklusmag egyszer sem fut le.\n"
      ]
    },
    {
      "cell_type": "code",
      "metadata": {
        "id": "-MnI_e1EE6lP",
        "colab_type": "code",
        "colab": {}
      },
      "source": [
        "szam=10\n",
        "while szam<=100:\n",
        "  szam+=10\n",
        "  print(szam)"
      ],
      "execution_count": 0,
      "outputs": []
    },
    {
      "cell_type": "code",
      "metadata": {
        "id": "VE8k_ZhwHE7Z",
        "colab_type": "code",
        "colab": {}
      },
      "source": [
        "betu=input(\"Írj be egy betűt: \")\n",
        "while betu != \"x\":\n",
        "  betu=input(\"Írj be egy betűt: \")\n",
        "print(\"VÉGE\")\n"
      ],
      "execution_count": 0,
      "outputs": []
    }
  ]
}