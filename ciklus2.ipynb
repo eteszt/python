{
  "nbformat": 4,
  "nbformat_minor": 0,
  "metadata": {
    "colab": {
      "name": "ciklus2.ipynb",
      "provenance": [],
      "authorship_tag": "ABX9TyPDL8dsa/992bA4KXOAfrt/",
      "include_colab_link": true
    },
    "kernelspec": {
      "name": "python3",
      "display_name": "Python 3"
    }
  },
  "cells": [
    {
      "cell_type": "markdown",
      "metadata": {
        "id": "view-in-github",
        "colab_type": "text"
      },
      "source": [
        "<a href=\"https://colab.research.google.com/github/eteszt/python/blob/master/ciklus2.ipynb\" target=\"_parent\"><img src=\"https://colab.research.google.com/assets/colab-badge.svg\" alt=\"Open In Colab\"/></a>"
      ]
    },
    {
      "cell_type": "markdown",
      "metadata": {
        "id": "LjuJV9A5FD-i",
        "colab_type": "text"
      },
      "source": [
        "# **while** *feltétel*:\n",
        "> utasítások\n",
        "\n"
      ]
    },
    {
      "cell_type": "markdown",
      "metadata": {
        "id": "yuU-xH2SSACb",
        "colab_type": "text"
      },
      "source": [
        "### A while ciklus addig ismétli a belsejében levő utasításokat, amíg igaz a feltétel.\n",
        "\n",
        "### Ha feltétel nem teljesül amikor a while utasításhoz érkezik a program, akkor egyetlen alkalommal sem hajtódnak végre a ciklusban levő utasítások.\n",
        "\n",
        "### Ha a ciklus belsejében levő utasítások soha nem változtatják a feltétel értékét hamisra, akkor a ciklus nem fejeződik be, végtelen ciklust kapunk."
      ]
    },
    {
      "cell_type": "code",
      "metadata": {
        "id": "xoyA8SfwJ3EF",
        "colab_type": "code",
        "colab": {}
      },
      "source": [
        "n = 5\n",
        "while n > 0:\n",
        "    n -= 1\n",
        "    print (n)"
      ],
      "execution_count": 0,
      "outputs": []
    },
    {
      "cell_type": "markdown",
      "metadata": {
        "id": "0US6d__XJx2m",
        "colab_type": "text"
      },
      "source": [
        "Mi történik ebben a példában:\n",
        "\n",
        "Az n értéke kezdetben 5. A 2. sorban a while állítás vizsgálatának eredménye (n>0) igaz, tehát a ciklusmag lefut. A 3. sorban a ciklusmagban n-t 1-el csökkentjük, majd az eredményt kinyomtatjuk.\n",
        "\n",
        "Amikor a ciklusmag lefutott, a program végrehajtása visszatér a hurok tetejére a 2. sorba, és a kifejezést újra kiértékeljük. Még mindig igaz, tehát a ciklusmag újra végrehajtja a feladatot, és az eredmény nyomtatásra kerül.\n",
        "\n",
        "Ez addig folytatódik, amíg n nullává nem válik. Ezen a ponton, amikor a kifejezést teszteljük, az eredmény hamis, így a hurok véget ér.\n",
        "\n",
        "Fontos, hogy a while a feltételt előbb teszteli, mielőtt bármi más megtörténik. Ha hamis a kiértékelés eredménye, akkor a ciklusmag egyszer sem fut le.\n"
      ]
    },
    {
      "cell_type": "code",
      "metadata": {
        "id": "-MnI_e1EE6lP",
        "colab_type": "code",
        "colab": {}
      },
      "source": [
        "#a szam változó értékét kezdetben 10-re állítjuk és tizesével növeljük, amíg el nem éri a százat\n",
        "szam=10\n",
        "while szam<=100:\n",
        "  szam+=10\n",
        "  print(szam)"
      ],
      "execution_count": 0,
      "outputs": []
    },
    {
      "cell_type": "code",
      "metadata": {
        "id": "VE8k_ZhwHE7Z",
        "colab_type": "code",
        "colab": {}
      },
      "source": [
        "#betüket olvas be a billentytűzetről addig, amíg \"x\"-t nem írunk be\n",
        "betu=input(\"Írj be egy betűt: \")\n",
        "while betu != \"x\":\n",
        "  betu=input(\"Írj be egy betűt: \")\n",
        "print(\"VÉGE\")\n"
      ],
      "execution_count": 0,
      "outputs": []
    },
    {
      "cell_type": "markdown",
      "metadata": {
        "id": "nVH5XpvsUDz2",
        "colab_type": "text"
      },
      "source": [
        "# Feladatok"
      ]
    },
    {
      "cell_type": "code",
      "metadata": {
        "id": "GAQasBA8UIHV",
        "colab_type": "code",
        "colab": {}
      },
      "source": [
        "#A McDonald's-ban hamburgert(H), sültkrumplit(K) és üditőt(U) lehet rendelni\n",
        "#A hamburger 300 forint, a sültkrumpli 250 forint, az üditő 200 forint\n",
        "#mindenből tetszőleges mennyiséget lehet rendelni, de egyszerre csak egyet\n",
        "#írjuk be a rendelést, egy input utasítással egy H, K vagy U betüt olvashatunk be\n",
        "#addig ismételjük a beolvasást, amíg a H, K vagy U betütől különböző betüt kapunk\n",
        "#számítsuk ki és írjuk ki, mennyit kell fizetni\n",
        "#ha például rendre K, K, H, U, H, X betüket olvasunk be, akkor 250+250+300+200+300 forintot kell fizetni"
      ],
      "execution_count": 0,
      "outputs": []
    },
    {
      "cell_type": "code",
      "metadata": {
        "id": "kMaaKYcSXcHE",
        "colab_type": "code",
        "colab": {}
      },
      "source": [
        "#Kérjünk be egy számot és határozzuk meg a jegyeinek számát. \n",
        "#A jegyek száma annyi, ahányszor el tudjuk osztani 10-el. \n",
        "#Persze minden osztás után csak az egész részt osztjuk újra.\n",
        "#egy osztás maradékát a % jellel kapjuk meg\n",
        "#például 14%7 = 0, 14%5 = 4"
      ],
      "execution_count": 0,
      "outputs": []
    },
    {
      "cell_type": "markdown",
      "metadata": {
        "id": "5gro79FbZJx0",
        "colab_type": "text"
      },
      "source": [
        "# Feladat haladóknak"
      ]
    },
    {
      "cell_type": "code",
      "metadata": {
        "id": "suFGYXNWY-EV",
        "colab_type": "code",
        "colab": {}
      },
      "source": [
        "#Döntsük el egy számról, hogy prímszám-e? (A prímszám csak 1-el és önmagával osztható)\n",
        "#segítség a megoldáshoz:\n",
        "#Osszuk el a számot 2-től kezdődően egyesével növekvő egész számokkal az első osztóig. (Az osztó, ha a maradék 0). \n",
        "#Ha ez kisebb, mint a szám, akkor nem prím, ha ez megegyezik a számmal, akkor prímszám!"
      ],
      "execution_count": 0,
      "outputs": []
    }
  ]
}