{
  "nbformat": 4,
  "nbformat_minor": 0,
  "metadata": {
    "colab": {
      "name": "ciklus2.ipynb",
      "provenance": [],
      "authorship_tag": "ABX9TyO9VFFrYC56nrFtQk9soq+V",
      "include_colab_link": true
    },
    "kernelspec": {
      "name": "python3",
      "display_name": "Python 3"
    }
  },
  "cells": [
    {
      "cell_type": "markdown",
      "metadata": {
        "id": "view-in-github",
        "colab_type": "text"
      },
      "source": [
        "<a href=\"https://colab.research.google.com/github/eteszt/python/blob/master/ciklus2.ipynb\" target=\"_parent\"><img src=\"https://colab.research.google.com/assets/colab-badge.svg\" alt=\"Open In Colab\"/></a>"
      ]
    },
    {
      "cell_type": "markdown",
      "metadata": {
        "id": "LjuJV9A5FD-i",
        "colab_type": "text"
      },
      "source": [
        "# **while** *feltétel*:\n",
        "> utasítások\n",
        "\n"
      ]
    },
    {
      "cell_type": "code",
      "metadata": {
        "id": "-MnI_e1EE6lP",
        "colab_type": "code",
        "colab": {}
      },
      "source": [
        "szam=10\n",
        "while szam<=100:\n",
        "  szam+=10\n",
        "  print(szam)"
      ],
      "execution_count": 0,
      "outputs": []
    },
    {
      "cell_type": "code",
      "metadata": {
        "id": "VE8k_ZhwHE7Z",
        "colab_type": "code",
        "colab": {}
      },
      "source": [
        "betu=input(\"Írj be egy betűt: \")\n",
        "while betu != \"x\":\n",
        "  betu=input(\"Írj be egy betűt: \")\n",
        "print(\"VÉGE\")\n"
      ],
      "execution_count": 0,
      "outputs": []
    }
  ]
}