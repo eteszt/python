{
  "nbformat": 4,
  "nbformat_minor": 0,
  "metadata": {
    "colab": {
      "name": "3. lista",
      "provenance": [],
      "collapsed_sections": [],
      "authorship_tag": "ABX9TyMBr9Jp2hFxCcYZZdqjcb9Y",
      "include_colab_link": true
    },
    "kernelspec": {
      "name": "python3",
      "display_name": "Python 3"
    }
  },
  "cells": [
    {
      "cell_type": "markdown",
      "metadata": {
        "id": "view-in-github",
        "colab_type": "text"
      },
      "source": [
        "<a href=\"https://colab.research.google.com/github/eteszt/python/blob/master/3_lista.ipynb\" target=\"_parent\"><img src=\"https://colab.research.google.com/assets/colab-badge.svg\" alt=\"Open In Colab\"/></a>"
      ]
    },
    {
      "cell_type": "code",
      "metadata": {
        "id": "H9NNuH_yGh7q",
        "colab_type": "code",
        "colab": {}
      },
      "source": [
        "ures_lista = []\n",
        "\n",
        "primszamok = [2, 3, 5, 7]\n",
        "\n",
        "bolygok = ['Merkur', 'Venusz', 'Fold', 'Mars', 'Jupiter', 'Saturnusz', 'Uranusz', 'Neptun']\n",
        "\n",
        "kartya = [\n",
        "    ['J', 'Q', 'K'],\n",
        "    ['2', '2', '2'],\n",
        "    ['6', 'A', 'K'], # utolsó elem utáni vessző elhagyható\n",
        "]\n",
        "\n",
        "# ugyanez így is megaható, csak nehezebben lehet olvasni\n",
        "kartya = [['J', 'Q', 'K'], ['2', '2', '2'], ['6', 'A', 'K']]\n",
        "\n",
        "vegyes_lista = [32, 'Pál utcai fiuk', primszamok]"
      ],
      "execution_count": 0,
      "outputs": []
    },
    {
      "cell_type": "markdown",
      "metadata": {
        "id": "Zfau4r-kYJhz",
        "colab_type": "text"
      },
      "source": [
        "# Lista\n",
        "első elem indexe: 0\n",
        "\n",
        "utolsó elem indexe: -1\n",
        "\n",
        "len(*lista*)\n",
        "\n",
        "max(*lista*)\n",
        "\n",
        "min(*lista*)\n",
        "\n",
        "sum(*lista*)"
      ]
    },
    {
      "cell_type": "markdown",
      "metadata": {
        "id": "I5d4OIPxV_Xq",
        "colab_type": "text"
      },
      "source": [
        "# Lista metódusok\n",
        " \n",
        "\n",
        "*   .append(*elem*)\n",
        "*   .insert(*hely,elem*)\n",
        "*   .index(*elem*)\n",
        "*   .reverse()\n",
        "*   .sort()"
      ]
    },
    {
      "cell_type": "code",
      "metadata": {
        "id": "IVPPikA7Dzuq",
        "colab_type": "code",
        "colab": {}
      },
      "source": [
        "\n",
        "print(bolygok[0])\n",
        "\n",
        "print(bolygok[1])\n",
        "\n",
        "print(bolygok[-1])\n",
        "\n",
        "print(bolygok[-2])\n",
        "\n",
        "print(bolygok[0:3])\n",
        "\n",
        "print(bolygok[:3])\n",
        "\n",
        "print(bolygok[3:])\n",
        "\n",
        "bolygok[3] = 'Malacandra'\n",
        "\n",
        "print(vegyes_lista)\n",
        "\n",
        "print(len(bolygok))\n",
        "\n",
        "print(sum(primszamok))\n",
        "\n",
        "print(max(primszamok))\n",
        "\n",
        "bolygok.append('Pluto')\n",
        "print(bolygok)\n",
        "\n",
        "bolygok.pop()\n",
        "print(bolygok)\n",
        "\n",
        "print(\"Fold\" in bolygok)\n"
      ],
      "execution_count": 0,
      "outputs": []
    },
    {
      "cell_type": "code",
      "metadata": {
        "id": "gU8udgmlymuw",
        "colab_type": "code",
        "colab": {}
      },
      "source": [
        "color_list1 = [\"White\", \"Yellow\"]\n",
        "color_list2 = [\"Red\", \"Blue\"]\n",
        "color_list3 = [\"Green\", \"Black\"]\n",
        "color_list = color_list1 + color_list2 + color_list3\n",
        "print(color_list)\n",
        "number = [1,2,3]\n",
        "print(number[0]*4)\n",
        "print(number*4)"
      ],
      "execution_count": 0,
      "outputs": []
    },
    {
      "cell_type": "markdown",
      "metadata": {
        "id": "TZ9_i0cIsZvR",
        "colab_type": "text"
      },
      "source": [
        "# Feladat\n",
        "\n",
        "*   hozz létre egy \"gyumolcsok\" nevű üres listát\n",
        "*   olvass be három input utasítással három gyümölcsot és fűzd hozzá a \"gyumolcsok\" listához\n",
        "*   írd ki ennek a listának az első elemét\n",
        "*   rendezd névsorba a listát\n",
        "*   írd ki most az első elemét\n",
        "*   hozz létre egy \"zoldsegek\" nevű üres listát\n",
        "*   olvass be kettő input utasítással kettő zöldséget és fűzd hozzá a \"zoldesegek\" listához\n",
        "*   fűzd össze a \"gyumolcsok\" és a \"zoldesegek\" listát egy \"zoldseg_gyumolcs\" nevű listába\n",
        "*   írd ki, hogy hány elem van ebben a most létrehozott listában\n",
        "*   írd ki, hogy a \"narancs\" benne van-e ebben a listában\n",
        "\n",
        "\n",
        "\n"
      ]
    },
    {
      "cell_type": "markdown",
      "metadata": {
        "id": "4fodLaeUWQw_",
        "colab_type": "text"
      },
      "source": [
        "# Feladat\n",
        "olvass be 5 egész számot\n",
        "\n",
        "tedd be egy listába\n",
        "\n",
        "állapítsd meg, hogy ezek a számok lehetnek-e egy lottóhúzás számai (1 és 90 közé esnek, nincs közöttük egyforma)\n",
        "\n",
        "ha igen, írd ki a számokat nagyság szerint növekvő sorrendben\n",
        "\n",
        "ha nem, írd ki, hogy hbás számok\n"
      ]
    }
  ]
}