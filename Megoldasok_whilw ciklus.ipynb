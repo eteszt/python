{
  "nbformat": 4,
  "nbformat_minor": 0,
  "metadata": {
    "colab": {
      "name": "Megoldasok -  ciklus2.ipynb",
      "provenance": [],
      "collapsed_sections": [],
      "authorship_tag": "ABX9TyNxzwMTgYYbo0cLcCJWJr4O",
      "include_colab_link": true
    },
    "kernelspec": {
      "name": "python3",
      "display_name": "Python 3"
    }
  },
  "cells": [
    {
      "cell_type": "markdown",
      "metadata": {
        "id": "view-in-github",
        "colab_type": "text"
      },
      "source": [
        "<a href=\"https://colab.research.google.com/github/eteszt/python/blob/master/Megoldasok_whilw%20ciklus.ipynb\" target=\"_parent\"><img src=\"https://colab.research.google.com/assets/colab-badge.svg\" alt=\"Open In Colab\"/></a>"
      ]
    },
    {
      "cell_type": "markdown",
      "metadata": {
        "id": "nVH5XpvsUDz2",
        "colab_type": "text"
      },
      "source": [
        "# Feladatok"
      ]
    },
    {
      "cell_type": "code",
      "metadata": {
        "id": "GAQasBA8UIHV",
        "colab_type": "code",
        "colab": {}
      },
      "source": [
        "#A McDonald's-ban hamburgert(H), sültkrumplit(K) és üditőt(U) lehet rendelni\n",
        "#A hamburger 300 forint, a sültkrumpli 250 forint, az üditő 200 forint\n",
        "#mindenből tetszőleges mennyiséget lehet rendelni, de egyszerre csak egyet\n",
        "#írjuk be a rendelést, egy input utasítással egy H, K vagy U betüt olvashatunk be\n",
        "#addig ismételjük a beolvasást, amíg a H, K vagy U betütől különböző betüt kapunk\n",
        "#számítsuk ki és írjuk ki, mennyit kell fizetni\n",
        "#ha például rendre K, K, H, U, H, X betüket olvasunk be, akkor 250+250+300+200+300 forintot kell fizetni"
      ],
      "execution_count": 0,
      "outputs": []
    },
    {
      "cell_type": "code",
      "metadata": {
        "id": "imqHNTY0xNej",
        "colab_type": "code",
        "colab": {}
      },
      "source": [
        "#első megoldás, 11 programsor, legkönnyebben érthető\n",
        "fizetendo=0\n",
        "termek=input(\"Mit rendelsz (H, K, U)? \").upper()\n",
        "while termek == \"H\" or termek == \"K\" or termek == \"U\":\n",
        "  if termek==\"H\":\n",
        "    fizetendo+=300\n",
        "  elif termek==\"K\":\n",
        "    fizetendo+=250\n",
        "  else:\n",
        "    fizetendo+=200  #itt már nem kell vizsgálni, hogy U betű-e, mert csak ebben az esetben jutunk ide\n",
        "  termek=input(\"Mit rendelsz (H, K, U)? \").upper()\n",
        "print(\"Összesen \",fizetendo,\"forintot kell fizetned.\")\n"
      ],
      "execution_count": 0,
      "outputs": []
    },
    {
      "cell_type": "code",
      "metadata": {
        "id": "sBxlhDg80m8P",
        "colab_type": "code",
        "colab": {}
      },
      "source": [
        "#egy másik megoldás, 8 programsor, egy kicsit bonyolultabb\n",
        "#létrehozunk egy listát a termékek jelével és azt ellenőrizzük, hogy a beolvasott betű benne van-e\n",
        "#így a ciklus feltétele sokkal egyszerűbb lesz\n",
        "#ha sok termék van, akkor mindeképpen ezt a megoldást érdemes választani\n",
        "\n",
        "fizetendo=0\n",
        "termekek=[\"H\",\"K\",\"U\"]\n",
        "termek=input(\"Mit rendelsz (H, K, U)? \").upper()\n",
        "while termek in termekek:\n",
        "  #a következő sor egy úgynevezett feltételes értékadás, az if utasítást lehet így beágyazni\n",
        "  fizetendo+=300 if termek==\"H\" else 250 if termek==\"K\" else 200\n",
        "  print(fizetendo)\n",
        "  termek=input(\"Mit rendelsz (H, K, U)? \").upper()\n",
        "print(\"Összesen \",fizetendo,\"forintot kell fizetned.\")\n"
      ],
      "execution_count": 0,
      "outputs": []
    },
    {
      "cell_type": "code",
      "metadata": {
        "id": "IKyd9Ir4dfzC",
        "colab_type": "code",
        "colab": {}
      },
      "source": [
        "#és végül egy megoldás haladóknak, 7 programsor\n",
        "#létrehozunk egy ugynevezett dictionary-t az egyes termékek jelével és árával\n",
        "arlap={\"H\":300,\"K\":250,\"U\":200}\n",
        "fizetendo=0\n",
        "termek=input(\"Mit rendelsz (H, K, U)? \").upper()\n",
        "while termek in arlap:\n",
        "  fizetendo+=arlap[termek]\n",
        "  termek=input(\"Mit rendelsz (H, K, U)? \").upper()\n",
        "print(\"Összesen \",fizetendo,\"forintot kell fizetned.\")\n",
        "\n"
      ],
      "execution_count": 0,
      "outputs": []
    },
    {
      "cell_type": "code",
      "metadata": {
        "id": "kMaaKYcSXcHE",
        "colab_type": "code",
        "colab": {}
      },
      "source": [
        "#Kérjünk be egy számot és határozzuk meg a jegyeinek számát. \n",
        "#A jegyek száma annyi, ahányszor el tudjuk osztani 10-el. \n",
        "#Persze minden osztás után csak az egész részt osztjuk újra.\n",
        "#egy osztás maradékát a % jellel kapjuk meg\n",
        "#például 14%7 = 0, 14%5 = 4"
      ],
      "execution_count": 0,
      "outputs": []
    },
    {
      "cell_type": "code",
      "metadata": {
        "id": "ge7zWwYRgN8l",
        "colab_type": "code",
        "colab": {}
      },
      "source": [
        "szam=int(input(\"Kérek egy számot: \"))\n",
        "jegyek_szama=0\n",
        "while szam!=0:\n",
        "  szam=szam//10\n",
        "  jegyek_szama+=1\n",
        "print(\"A szám\",jegyek_szama,\"jegyből áll.\")"
      ],
      "execution_count": 0,
      "outputs": []
    },
    {
      "cell_type": "markdown",
      "metadata": {
        "id": "5gro79FbZJx0",
        "colab_type": "text"
      },
      "source": [
        "# Feladat haladóknak"
      ]
    },
    {
      "cell_type": "code",
      "metadata": {
        "id": "suFGYXNWY-EV",
        "colab_type": "code",
        "colab": {}
      },
      "source": [
        "#Döntsük el egy számról, hogy prímszám-e? (A prímszám csak 1-el és önmagával osztható)\n",
        "#segítség a megoldáshoz:\n",
        "#Osszuk el a számot 2-től kezdődően egyesével növekvő egész számokkal az első osztóig. (Az osztó, ha a maradék 0). \n",
        "#Ha ez kisebb, mint a szám, akkor nem prím, ha ez megegyezik a számmal, akkor prímszám!"
      ],
      "execution_count": 0,
      "outputs": []
    },
    {
      "cell_type": "code",
      "metadata": {
        "id": "vdpTvMaji1qo",
        "colab_type": "code",
        "colab": {}
      },
      "source": [
        "szam=int(input('Kérem a számot! ')) \n",
        "oszto=2\n",
        "while szam%oszto!=0:   #egy osztás maradékát a % művelettel kapjuk meg\n",
        "  oszto=oszto+1\n",
        "if szam==oszto:\n",
        "  print('Prímszám')\n",
        "else:\n",
        "  print('Nem prímszám')"
      ],
      "execution_count": 0,
      "outputs": []
    },
    {
      "cell_type": "code",
      "metadata": {
        "id": "9gsYB25fjqUA",
        "colab_type": "code",
        "colab": {}
      },
      "source": [
        "#érdemes figyelni arra, hogy ha a beolvasott szám kisebb, mint 2, akkor végtelen ciklusba kerül a program\n",
        "#ezért érdemes ezt az esetet is megvizsgálni\n",
        "szam=int(input('Kérem a számot! ')) \n",
        "if szam<2:\n",
        "  print(\"Csak 1-nél nagyobb számot lehet megadni.\")\n",
        "else:\n",
        "  oszto=2\n",
        "  while szam%oszto!=0:   #egy osztás maradékát a % művelettel kapjuk meg\n",
        "    oszto=oszto+1\n",
        "  if szam==oszto:\n",
        "    print('Prímszám')\n",
        "  else:\n",
        "    print('Nem prímszám')"
      ],
      "execution_count": 0,
      "outputs": []
    }
  ]
}