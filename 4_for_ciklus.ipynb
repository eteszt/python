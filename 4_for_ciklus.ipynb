{
  "nbformat": 4,
  "nbformat_minor": 0,
  "metadata": {
    "colab": {
      "name": "4. for ciklus.ipynb",
      "provenance": [],
      "collapsed_sections": [],
      "authorship_tag": "ABX9TyMcMP0n+wazA25ZbHjEyTLo",
      "include_colab_link": true
    },
    "kernelspec": {
      "name": "python3",
      "display_name": "Python 3"
    }
  },
  "cells": [
    {
      "cell_type": "markdown",
      "metadata": {
        "id": "view-in-github",
        "colab_type": "text"
      },
      "source": [
        "<a href=\"https://colab.research.google.com/github/eteszt/python/blob/master/4_for_ciklus.ipynb\" target=\"_parent\"><img src=\"https://colab.research.google.com/assets/colab-badge.svg\" alt=\"Open In Colab\"/></a>"
      ]
    },
    {
      "cell_type": "markdown",
      "metadata": {
        "id": "siL7FkGQiIJ3",
        "colab_type": "text"
      },
      "source": [
        "## **for** *ciklusváltozó* **in range**([kezdete], vége, [lépésköz]):"
      ]
    },
    {
      "cell_type": "code",
      "metadata": {
        "id": "4ILbTWqGiEqI",
        "colab_type": "code",
        "colab": {}
      },
      "source": [
        "for i in range(5):\n",
        "    print(i)\n"
      ],
      "execution_count": 0,
      "outputs": []
    },
    {
      "cell_type": "code",
      "metadata": {
        "id": "75Wu6720l2Rx",
        "colab_type": "code",
        "colab": {}
      },
      "source": [
        "#próbáld ki a range változtatásával!\n",
        "# for i in range(5,10):\n",
        "# for i in range(10,100,20):\n",
        "# for i in range(0,-10,-1):\n",
        " "
      ],
      "execution_count": 0,
      "outputs": []
    },
    {
      "cell_type": "code",
      "metadata": {
        "id": "b_O_QRPBmvDB",
        "colab_type": "code",
        "colab": {}
      },
      "source": [
        "#ciklussal beolvasunk 3 elemet és összefűzzük egy listába, \n",
        "#rendezzük a istát\n",
        "#ciklussal kiiratjuk az elemeket\n",
        "lista=[]\n",
        "for i in range(3):    #az i ciklusváltozó rendre felveszi a 0, 1, 2 értékeket\n",
        "  lista.append(input(\"Írj be valamit! \"))\n",
        "lista.sort()\n",
        "for i in range(3):    #az i ciklusváltozó rendre felveszi a 0, 1, 2 értékeket \n",
        "  print(lista[i])"
      ],
      "execution_count": 0,
      "outputs": []
    },
    {
      "cell_type": "markdown",
      "metadata": {
        "id": "Lf1wO9VFo0Yh",
        "colab_type": "text"
      },
      "source": [
        "## Változtasd meg a fenti programot úgy, hogy az elemek beolvasásánál azt a szöveget írja ki, hogy\n",
        "\n",
        "*Kérem a(z) 1. elemet:*\n",
        "\n",
        "*Kérem a(z) 2. elemet:*\n",
        "\n",
        "*Kérem a(z) 3. elemet:*"
      ]
    },
    {
      "cell_type": "markdown",
      "metadata": {
        "id": "3g1Ux9Z9ph1C",
        "colab_type": "text"
      },
      "source": [
        "## Változtasd meg a fenti programot úgy, hogy először megkérdezze, hány elem fog következni és utána ennyi elemet olvasson be!"
      ]
    },
    {
      "cell_type": "markdown",
      "metadata": {
        "id": "QC_tONQPtL1z",
        "colab_type": "text"
      },
      "source": [
        "## **for** *ciklusváltozó* **in** ...\n",
        "sorra veszi az **in** kulcsszó utáni objektum elemeit"
      ]
    },
    {
      "cell_type": "code",
      "metadata": {
        "id": "Pk5bJ5ubtlWo",
        "colab_type": "code",
        "colab": {}
      },
      "source": [
        "gyumolcs=[\"alma\",\"szilva\",\"narancs\"]\n",
        "for gy in gyumolcs:\n",
        "  print(gy)"
      ],
      "execution_count": 0,
      "outputs": []
    },
    {
      "cell_type": "code",
      "metadata": {
        "id": "1UlfnUyfTvwh",
        "colab_type": "code",
        "colab": {}
      },
      "source": [
        "for betu in \"Babits Mihály\":\n",
        "  print(betu)"
      ],
      "execution_count": 0,
      "outputs": []
    },
    {
      "cell_type": "markdown",
      "metadata": {
        "id": "6UQIo4KpUKhO",
        "colab_type": "text"
      },
      "source": [
        "# Feladatok\n",
        "1. Kérjünk be egy szót és írassuk a szó betűit nagybetűvé alakítva, egymás alá!\n",
        "\n",
        "2. Kérjünk be 4 nevet, majd egy-egy név beolvasása után írjuk ki annak karakterszámát!\n",
        "\n",
        "3. Irassuk ki a 100-nál kisebb pozitív páros számokat!\n",
        "\n",
        "4. Kérjünk be egy mondatot, majd írassuk ki a szavait fordított abc sorrendben!\n",
        "\n",
        "5. Három téglatest adatait kérjük be (cm-ben) úgy, hogy egy-egy téglatest oldalméreteit szóközzel elválasztva olvassuk be (pl. 10 25 15). Adjuk meg mindegyik téglatest térfogatát, és írassuk ki az oldaladataival együtt!\n",
        "\n",
        "6. Olvass be egy pozitív egész számot és írd ki, hogy 1-től eddig a számig mennyi a számok összege és átlaga!\n",
        "\n",
        "7. Olvass be egy mondatot és írd ki hány szóbol áll!\n"
      ]
    }
  ]
}